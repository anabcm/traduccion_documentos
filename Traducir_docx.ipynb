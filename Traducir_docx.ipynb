{
 "cells": [
  {
   "cell_type": "markdown",
   "metadata": {},
   "source": [
    "### Traducción de documentos "
   ]
  },
  {
   "cell_type": "code",
   "execution_count": 3,
   "metadata": {},
   "outputs": [],
   "source": [
    "#Librerias\n",
    "import docx\n",
    "from google_trans_new import google_translator  \n",
    "import time\n",
    "import os\n",
    "\n"
   ]
  },
  {
   "cell_type": "markdown",
   "metadata": {},
   "source": [
    "### función de traducción de docx"
   ]
  },
  {
   "cell_type": "code",
   "execution_count": 4,
   "metadata": {},
   "outputs": [],
   "source": [
    "#se hace una copia del documento original\n",
    "def translate_document_mod(directory,source,target,targetLanguageCode,dguardar):\n",
    "    doc = docx.Document(directory+source)\n",
    "    translator = google_translator() \n",
    "    #translator = Translator()\n",
    "    doc2 = doc\n",
    "    traducciones=[]\n",
    "    print(\"traduciendo parrafos\")\n",
    "    \n",
    "    for i,para in enumerate(doc2.paragraphs):\n",
    "        for run in para.runs:\n",
    "            \n",
    "            try:\n",
    "                #print(i)\n",
    "                #print(run.text)\n",
    "                \n",
    "                if len(run.text)!=0:\n",
    "                    \n",
    "                    translation = translator.translate(run.text,lang_tgt=targetLanguageCode)+\" \"\n",
    "\n",
    "                    te=run.text.replace(run.text, translation )\n",
    "                    run.text=te\n",
    "                    time.sleep(2)\n",
    "            except:\n",
    "                print(\"Error \"+str(i))\n",
    "    print(\"traduciendo tablas\")\n",
    "    for table in doc2.tables:\n",
    "        for row in table.rows:\n",
    "            for cell in row.cells:\n",
    "                try:\n",
    "                    if len(cell.text)!=0:\n",
    "                        if '@' not in cell.text:\n",
    "                            translation = translator.translate(cell.text,lang_tgt=targetLanguageCode)+\" \"\n",
    "                            cell.text=cell.text.replace(cell.text, translation)\n",
    "                            time.sleep(1)\n",
    "                except:\n",
    "                    print(\"Error \"+str(i))\n",
    "\n",
    "\n",
    "\n",
    "    doc2.save(dguardar+target+file)\n",
    "    print(\"Document translation is completed.\")"
   ]
  },
  {
   "cell_type": "code",
   "execution_count": 6,
   "metadata": {
    "collapsed": true,
    "jupyter": {
     "outputs_hidden": true
    }
   },
   "outputs": [
    {
     "name": "stdout",
     "output_type": "stream",
     "text": [
      "ingles_Aviso de modificación de fideicomisos Sección Tercera.docx\n",
      "traduciendo parrafos\n",
      "Error 14\n",
      "Error 38\n",
      "Error 79\n",
      "Error 92\n",
      "Error 122\n",
      "Error 141\n",
      "Error 161\n",
      "Error 166\n",
      "Error 188\n",
      "Error 197\n",
      "Error 209\n",
      "Error 212\n",
      "Error 222\n",
      "Error 230\n",
      "Error 232\n",
      "Error 239\n",
      "Error 247\n",
      "Error 248\n",
      "Error 250\n",
      "Error 259\n",
      "Error 264\n",
      "traduciendo tablas\n",
      "Document translation is completed.\n"
     ]
    }
   ],
   "source": [
    "import os\n",
    "\n",
    "directory=\"por_traducir/\"\n",
    "dguardar=\"traducidos/\"\n",
    "archivos = os.listdir(directory)\n",
    "sourceLanguageCode ='es'\n",
    "target =\"ingles_\"\n",
    "targetLanguageCode = 'en'\n",
    "\n",
    "for file in archivos:\n",
    "    print(file)\n",
    "    translate_document_mod(directory,file,target,targetLanguageCode,dguardar)"
   ]
  }
 ],
 "metadata": {
  "kernelspec": {
   "display_name": "Python 3",
   "language": "python",
   "name": "python3"
  },
  "language_info": {
   "codemirror_mode": {
    "name": "ipython",
    "version": 3
   },
   "file_extension": ".py",
   "mimetype": "text/x-python",
   "name": "python",
   "nbconvert_exporter": "python",
   "pygments_lexer": "ipython3",
   "version": "3.8.5"
  }
 },
 "nbformat": 4,
 "nbformat_minor": 4
}
